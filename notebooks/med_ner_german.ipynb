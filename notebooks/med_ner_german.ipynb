{
  "nbformat": 4,
  "nbformat_minor": 0,
  "metadata": {
    "colab": {
      "provenance": []
    },
    "kernelspec": {
      "name": "python3",
      "display_name": "Python 3"
    },
    "language_info": {
      "name": "python"
    }
  },
  "cells": [
    {
      "cell_type": "code",
      "source": [
        "# !pip install transformers\n",
        "!pip install transformers==2.8.0\n",
        "!git clone https://github.com/sitingGZ/bert-sner.git && cd bert-sner\n",
        "!pip install pytorch_lightning\n",
        "%cd /content/bert-sner/modules"
      ],
      "metadata": {
        "colab": {
          "base_uri": "https://localhost:8080/"
        },
        "id": "ZKquZ9xDnNXh",
        "outputId": "409f3a02-9737-419a-99c5-c1481dbe8d2f"
      },
      "execution_count": 1,
      "outputs": [
        {
          "output_type": "stream",
          "name": "stdout",
          "text": [
            "Collecting transformers==2.8.0\n",
            "  Using cached transformers-2.8.0-py3-none-any.whl (563 kB)\n",
            "Requirement already satisfied: numpy in /usr/local/lib/python3.10/dist-packages (from transformers==2.8.0) (1.23.5)\n",
            "Collecting tokenizers==0.5.2 (from transformers==2.8.0)\n",
            "  Using cached tokenizers-0.5.2.tar.gz (64 kB)\n",
            "  Installing build dependencies ... \u001b[?25l\u001b[?25hdone\n",
            "  Getting requirements to build wheel ... \u001b[?25l\u001b[?25hdone\n",
            "  Preparing metadata (pyproject.toml) ... \u001b[?25l\u001b[?25hdone\n",
            "Collecting boto3 (from transformers==2.8.0)\n",
            "  Using cached boto3-1.28.71-py3-none-any.whl (135 kB)\n",
            "Requirement already satisfied: filelock in /usr/local/lib/python3.10/dist-packages (from transformers==2.8.0) (3.12.4)\n",
            "Requirement already satisfied: requests in /usr/local/lib/python3.10/dist-packages (from transformers==2.8.0) (2.31.0)\n",
            "Requirement already satisfied: tqdm>=4.27 in /usr/local/lib/python3.10/dist-packages (from transformers==2.8.0) (4.66.1)\n",
            "Requirement already satisfied: regex!=2019.12.17 in /usr/local/lib/python3.10/dist-packages (from transformers==2.8.0) (2023.6.3)\n",
            "Collecting sentencepiece (from transformers==2.8.0)\n",
            "  Using cached sentencepiece-0.1.99-cp310-cp310-manylinux_2_17_x86_64.manylinux2014_x86_64.whl (1.3 MB)\n",
            "Collecting sacremoses (from transformers==2.8.0)\n",
            "  Using cached sacremoses-0.0.53-py3-none-any.whl\n",
            "Collecting botocore<1.32.0,>=1.31.71 (from boto3->transformers==2.8.0)\n",
            "  Using cached botocore-1.31.71-py3-none-any.whl (11.3 MB)\n",
            "Collecting jmespath<2.0.0,>=0.7.1 (from boto3->transformers==2.8.0)\n",
            "  Using cached jmespath-1.0.1-py3-none-any.whl (20 kB)\n",
            "Collecting s3transfer<0.8.0,>=0.7.0 (from boto3->transformers==2.8.0)\n",
            "  Using cached s3transfer-0.7.0-py3-none-any.whl (79 kB)\n",
            "Requirement already satisfied: charset-normalizer<4,>=2 in /usr/local/lib/python3.10/dist-packages (from requests->transformers==2.8.0) (3.3.0)\n",
            "Requirement already satisfied: idna<4,>=2.5 in /usr/local/lib/python3.10/dist-packages (from requests->transformers==2.8.0) (3.4)\n",
            "Requirement already satisfied: urllib3<3,>=1.21.1 in /usr/local/lib/python3.10/dist-packages (from requests->transformers==2.8.0) (2.0.7)\n",
            "Requirement already satisfied: certifi>=2017.4.17 in /usr/local/lib/python3.10/dist-packages (from requests->transformers==2.8.0) (2023.7.22)\n",
            "Requirement already satisfied: six in /usr/local/lib/python3.10/dist-packages (from sacremoses->transformers==2.8.0) (1.16.0)\n",
            "Requirement already satisfied: click in /usr/local/lib/python3.10/dist-packages (from sacremoses->transformers==2.8.0) (8.1.7)\n",
            "Requirement already satisfied: joblib in /usr/local/lib/python3.10/dist-packages (from sacremoses->transformers==2.8.0) (1.3.2)\n",
            "Requirement already satisfied: python-dateutil<3.0.0,>=2.1 in /usr/local/lib/python3.10/dist-packages (from botocore<1.32.0,>=1.31.71->boto3->transformers==2.8.0) (2.8.2)\n",
            "Building wheels for collected packages: tokenizers\n",
            "  \u001b[1;31merror\u001b[0m: \u001b[1msubprocess-exited-with-error\u001b[0m\n",
            "  \n",
            "  \u001b[31m×\u001b[0m \u001b[32mBuilding wheel for tokenizers \u001b[0m\u001b[1;32m(\u001b[0m\u001b[32mpyproject.toml\u001b[0m\u001b[1;32m)\u001b[0m did not run successfully.\n",
            "  \u001b[31m│\u001b[0m exit code: \u001b[1;36m1\u001b[0m\n",
            "  \u001b[31m╰─>\u001b[0m See above for output.\n",
            "  \n",
            "  \u001b[1;35mnote\u001b[0m: This error originates from a subprocess, and is likely not a problem with pip.\n",
            "  Building wheel for tokenizers (pyproject.toml) ... \u001b[?25l\u001b[?25herror\n",
            "\u001b[31m  ERROR: Failed building wheel for tokenizers\u001b[0m\u001b[31m\n",
            "\u001b[0mFailed to build tokenizers\n",
            "\u001b[31mERROR: Could not build wheels for tokenizers, which is required to install pyproject.toml-based projects\u001b[0m\u001b[31m\n",
            "\u001b[0mfatal: destination path 'bert-sner' already exists and is not an empty directory.\n",
            "Requirement already satisfied: pytorch_lightning in /usr/local/lib/python3.10/dist-packages (2.1.0)\n",
            "Requirement already satisfied: numpy>=1.17.2 in /usr/local/lib/python3.10/dist-packages (from pytorch_lightning) (1.23.5)\n",
            "Requirement already satisfied: torch>=1.12.0 in /usr/local/lib/python3.10/dist-packages (from pytorch_lightning) (2.1.0+cu118)\n",
            "Requirement already satisfied: tqdm>=4.57.0 in /usr/local/lib/python3.10/dist-packages (from pytorch_lightning) (4.66.1)\n",
            "Requirement already satisfied: PyYAML>=5.4 in /usr/local/lib/python3.10/dist-packages (from pytorch_lightning) (6.0.1)\n",
            "Requirement already satisfied: fsspec[http]>2021.06.0 in /usr/local/lib/python3.10/dist-packages (from pytorch_lightning) (2023.6.0)\n",
            "Requirement already satisfied: torchmetrics>=0.7.0 in /usr/local/lib/python3.10/dist-packages (from pytorch_lightning) (1.2.0)\n",
            "Requirement already satisfied: packaging>=20.0 in /usr/local/lib/python3.10/dist-packages (from pytorch_lightning) (23.2)\n",
            "Requirement already satisfied: typing-extensions>=4.0.0 in /usr/local/lib/python3.10/dist-packages (from pytorch_lightning) (4.5.0)\n",
            "Requirement already satisfied: lightning-utilities>=0.8.0 in /usr/local/lib/python3.10/dist-packages (from pytorch_lightning) (0.9.0)\n",
            "Requirement already satisfied: requests in /usr/local/lib/python3.10/dist-packages (from fsspec[http]>2021.06.0->pytorch_lightning) (2.31.0)\n",
            "Requirement already satisfied: aiohttp!=4.0.0a0,!=4.0.0a1 in /usr/local/lib/python3.10/dist-packages (from fsspec[http]>2021.06.0->pytorch_lightning) (3.8.6)\n",
            "Requirement already satisfied: filelock in /usr/local/lib/python3.10/dist-packages (from torch>=1.12.0->pytorch_lightning) (3.12.4)\n",
            "Requirement already satisfied: sympy in /usr/local/lib/python3.10/dist-packages (from torch>=1.12.0->pytorch_lightning) (1.12)\n",
            "Requirement already satisfied: networkx in /usr/local/lib/python3.10/dist-packages (from torch>=1.12.0->pytorch_lightning) (3.2)\n",
            "Requirement already satisfied: jinja2 in /usr/local/lib/python3.10/dist-packages (from torch>=1.12.0->pytorch_lightning) (3.1.2)\n",
            "Requirement already satisfied: triton==2.1.0 in /usr/local/lib/python3.10/dist-packages (from torch>=1.12.0->pytorch_lightning) (2.1.0)\n",
            "Requirement already satisfied: attrs>=17.3.0 in /usr/local/lib/python3.10/dist-packages (from aiohttp!=4.0.0a0,!=4.0.0a1->fsspec[http]>2021.06.0->pytorch_lightning) (23.1.0)\n",
            "Requirement already satisfied: charset-normalizer<4.0,>=2.0 in /usr/local/lib/python3.10/dist-packages (from aiohttp!=4.0.0a0,!=4.0.0a1->fsspec[http]>2021.06.0->pytorch_lightning) (3.3.0)\n",
            "Requirement already satisfied: multidict<7.0,>=4.5 in /usr/local/lib/python3.10/dist-packages (from aiohttp!=4.0.0a0,!=4.0.0a1->fsspec[http]>2021.06.0->pytorch_lightning) (6.0.4)\n",
            "Requirement already satisfied: async-timeout<5.0,>=4.0.0a3 in /usr/local/lib/python3.10/dist-packages (from aiohttp!=4.0.0a0,!=4.0.0a1->fsspec[http]>2021.06.0->pytorch_lightning) (4.0.3)\n",
            "Requirement already satisfied: yarl<2.0,>=1.0 in /usr/local/lib/python3.10/dist-packages (from aiohttp!=4.0.0a0,!=4.0.0a1->fsspec[http]>2021.06.0->pytorch_lightning) (1.9.2)\n",
            "Requirement already satisfied: frozenlist>=1.1.1 in /usr/local/lib/python3.10/dist-packages (from aiohttp!=4.0.0a0,!=4.0.0a1->fsspec[http]>2021.06.0->pytorch_lightning) (1.4.0)\n",
            "Requirement already satisfied: aiosignal>=1.1.2 in /usr/local/lib/python3.10/dist-packages (from aiohttp!=4.0.0a0,!=4.0.0a1->fsspec[http]>2021.06.0->pytorch_lightning) (1.3.1)\n",
            "Requirement already satisfied: MarkupSafe>=2.0 in /usr/local/lib/python3.10/dist-packages (from jinja2->torch>=1.12.0->pytorch_lightning) (2.1.3)\n",
            "Requirement already satisfied: idna<4,>=2.5 in /usr/local/lib/python3.10/dist-packages (from requests->fsspec[http]>2021.06.0->pytorch_lightning) (3.4)\n",
            "Requirement already satisfied: urllib3<3,>=1.21.1 in /usr/local/lib/python3.10/dist-packages (from requests->fsspec[http]>2021.06.0->pytorch_lightning) (2.0.7)\n",
            "Requirement already satisfied: certifi>=2017.4.17 in /usr/local/lib/python3.10/dist-packages (from requests->fsspec[http]>2021.06.0->pytorch_lightning) (2023.7.22)\n",
            "Requirement already satisfied: mpmath>=0.19 in /usr/local/lib/python3.10/dist-packages (from sympy->torch>=1.12.0->pytorch_lightning) (1.3.0)\n",
            "/content/bert-sner/modules\n"
          ]
        }
      ]
    },
    {
      "cell_type": "code",
      "source": [
        "!pwd"
      ],
      "metadata": {
        "colab": {
          "base_uri": "https://localhost:8080/"
        },
        "id": "V-3WVpjcpnOJ",
        "outputId": "7aa35b59-bc00-45e6-efc6-7ed44858ab2a"
      },
      "execution_count": 2,
      "outputs": [
        {
          "output_type": "stream",
          "name": "stdout",
          "text": [
            "/content/bert-sner/modules\n"
          ]
        }
      ]
    },
    {
      "cell_type": "code",
      "source": [
        "# !ls ../../gdrive/MyDrive"
      ],
      "metadata": {
        "id": "rVJyBUY2ray2"
      },
      "execution_count": 12,
      "outputs": []
    },
    {
      "cell_type": "code",
      "source": [
        "import warnings\n",
        "\n",
        "# mount the google drive\n",
        "from google.colab import drive\n",
        "drive.mount('/content/gdrive')\n",
        "\n",
        "warnings.filterwarnings('ignore')"
      ],
      "metadata": {
        "colab": {
          "base_uri": "https://localhost:8080/"
        },
        "id": "Y5onXeepxWMo",
        "outputId": "d738e3ce-fa8a-49e0-f989-4c230d9bda89"
      },
      "execution_count": 3,
      "outputs": [
        {
          "output_type": "stream",
          "name": "stdout",
          "text": [
            "Drive already mounted at /content/gdrive; to attempt to forcibly remount, call drive.mount(\"/content/gdrive\", force_remount=True).\n"
          ]
        }
      ]
    },
    {
      "cell_type": "code",
      "execution_count": 25,
      "metadata": {
        "colab": {
          "base_uri": "https://localhost:8080/"
        },
        "id": "B2LZeOPJm8zx",
        "outputId": "a92b8861-4c8f-4b9a-9fa4-04d80dabc106"
      },
      "outputs": [
        {
          "output_type": "stream",
          "name": "stderr",
          "text": [
            "Some weights of the model checkpoint at bert-base-german-cased were not used when initializing BertForMaskedLM: ['bert.pooler.dense.bias', 'cls.seq_relationship.bias', 'bert.pooler.dense.weight', 'cls.seq_relationship.weight']\n",
            "- This IS expected if you are initializing BertForMaskedLM from the checkpoint of a model trained on another task or with another architecture (e.g. initializing a BertForSequenceClassification model from a BertForPreTraining model).\n",
            "- This IS NOT expected if you are initializing BertForMaskedLM from the checkpoint of a model that you expect to be exactly identical (initializing a BertForSequenceClassification model from a BertForSequenceClassification model).\n"
          ]
        }
      ],
      "source": [
        "import sys\n",
        "# sys.path.append('modules')\n",
        "\n",
        "import torch\n",
        "from transformers import AutoConfig, AutoTokenizer, AutoModelForMaskedLM, EncoderDecoderConfig\n",
        "from BERT2span_semantic_disam import BERT2span\n",
        "from helpers import load_config, set_seed\n",
        "from inference import final_label_results_rescaled\n",
        "\n",
        "base_name =  \"bert-base-german-cased\"\n",
        "configs = load_config('../configs/step3_gpu_span_semantic_group.yaml')\n",
        "tokenizer = AutoTokenizer.from_pretrained(base_name)\n",
        "bertMLM = AutoModelForMaskedLM.from_pretrained(base_name)\n",
        "bert_sner = BERT2span(configs, bertMLM, tokenizer)\n",
        "\n",
        "checkpoint_path = \"../../gdrive/MyDrive/ner-models/german_bert_ex4cds_500_semantic_term.ckpt\"\n",
        "# checkpoint_path = \"../../gdrive/MyDrive/ner-models/german_bert_muchmore_semantic_term.ckpt\"\n",
        "state_dict = torch.load(checkpoint_path, map_location=torch.device('cpu'))\n",
        "# bertMLM.load_state_dict(state_dict, strict=False)\n",
        "bert_sner.load_state_dict(state_dict, strict=False)\n",
        "bert_sner.eval()\n",
        "\n",
        "suggested_terms = {'Condition': 'Zeichen oder Symptom',\n",
        "               'DiagLab': 'Diagnostisch und Laborverfahren',\n",
        "                'LabValues': 'Klinisches Attribut',\n",
        "                 'HealthState': 'Gesunder Zustand',\n",
        "                 'Measure': 'Quantitatives Konzept',\n",
        "                 'Medication': 'Pharmakologische Substanz',\n",
        "                 'Process': 'Physiologische Funktion',\n",
        "                 'TimeInfo': 'Zeitliches Konzept'}\n",
        "\n",
        "words = \"Welche Erreger verursachen häufig eine frühe postoperative Osteitis oder periimplantäre Infektion?\".split()\n",
        "words_list = [words]\n",
        "heatmaps, ner_results = final_label_results_rescaled(words_list, tokenizer, bert_sner, suggested_terms, threshold=0.5)\n"
      ]
    },
    {
      "cell_type": "code",
      "source": [
        "\n",
        "ner_results"
      ],
      "metadata": {
        "colab": {
          "base_uri": "https://localhost:8080/"
        },
        "id": "ZJL6--_txVHm",
        "outputId": "04284df4-7636-4785-efb5-60f0fba24d45"
      },
      "execution_count": 16,
      "outputs": [
        {
          "output_type": "execute_result",
          "data": {
            "text/plain": [
              "[[('Welche', 0, 'O'),\n",
              "  ('Erreger', 0, 'O'),\n",
              "  ('verursachen', 5, 'Measure'),\n",
              "  ('häufig', 0, 'O'),\n",
              "  ('eine', 0, 'O'),\n",
              "  ('frühe', 2, 'DiagLab'),\n",
              "  ('postoperative', 0, 'O'),\n",
              "  ('Osteitis', 1, 'Condition'),\n",
              "  ('oder', 0, 'O'),\n",
              "  ('periimplantäre', 3, 'LabValues'),\n",
              "  ('Infektion?', 1, 'Condition')]]"
            ]
          },
          "metadata": {},
          "execution_count": 16
        }
      ]
    },
    {
      "cell_type": "code",
      "source": [
        "ner_results"
      ],
      "metadata": {
        "colab": {
          "base_uri": "https://localhost:8080/"
        },
        "id": "362dzRB51qBE",
        "outputId": "e2945525-4805-4d1c-d98d-4ba83f65c1f7"
      },
      "execution_count": 9,
      "outputs": [
        {
          "output_type": "execute_result",
          "data": {
            "text/plain": [
              "[[('Welche', 0, 'O'),\n",
              "  ('Erreger', 3, 'LabValues'),\n",
              "  ('verursachen', 5, 'Measure'),\n",
              "  ('häufig', 5, 'Measure'),\n",
              "  ('eine', 0, 'O'),\n",
              "  ('frühe', 2, 'DiagLab'),\n",
              "  ('postoperative', 6, 'Medication'),\n",
              "  ('Osteitis', 1, 'Condition'),\n",
              "  ('oder', 0, 'O'),\n",
              "  ('periimplantäre', 3, 'LabValues'),\n",
              "  ('Infektion?', 1, 'Condition')]]"
            ]
          },
          "metadata": {},
          "execution_count": 9
        }
      ]
    },
    {
      "cell_type": "code",
      "source": [
        "ner_results"
      ],
      "metadata": {
        "colab": {
          "base_uri": "https://localhost:8080/"
        },
        "id": "eCwd-vdN6aX_",
        "outputId": "e924dfcc-9632-4549-9e1a-8d5dad6dd159"
      },
      "execution_count": 21,
      "outputs": [
        {
          "output_type": "execute_result",
          "data": {
            "text/plain": [
              "[[('Welche', 0, 'O'),\n",
              "  ('Erreger', 0, 'O'),\n",
              "  ('verursachen', 0, 'O'),\n",
              "  ('häufig', 0, 'O'),\n",
              "  ('eine', 0, 'O'),\n",
              "  ('frühe', 8, 'TimeInfo'),\n",
              "  ('postoperative', 0, 'O'),\n",
              "  ('Osteitis', 1, 'Condition'),\n",
              "  ('oder', 0, 'O'),\n",
              "  ('periimplantäre', 7, 'Process'),\n",
              "  ('Infektion?', 2, 'DiagLab')]]"
            ]
          },
          "metadata": {},
          "execution_count": 21
        }
      ]
    },
    {
      "cell_type": "code",
      "source": [
        "ner_results"
      ],
      "metadata": {
        "colab": {
          "base_uri": "https://localhost:8080/"
        },
        "id": "pn0did0L6bEx",
        "outputId": "20dc0623-346b-4e15-b882-c20f099f4429"
      },
      "execution_count": 19,
      "outputs": [
        {
          "output_type": "execute_result",
          "data": {
            "text/plain": [
              "[[('Welche', 0, 'O'),\n",
              "  ('Erreger', 0, 'O'),\n",
              "  ('verursachen', 0, 'O'),\n",
              "  ('häufig', 0, 'O'),\n",
              "  ('eine', 0, 'O'),\n",
              "  ('frühe', 8, 'TimeInfo'),\n",
              "  ('postoperative', 4, 'HealthState'),\n",
              "  ('Osteitis', 1, 'Condition'),\n",
              "  ('oder', 0, 'O'),\n",
              "  ('periimplantäre', 7, 'Process'),\n",
              "  ('Infektion?', 2, 'DiagLab')]]"
            ]
          },
          "metadata": {},
          "execution_count": 19
        }
      ]
    }
  ]
}